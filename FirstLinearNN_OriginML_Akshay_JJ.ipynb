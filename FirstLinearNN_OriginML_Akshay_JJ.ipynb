{
  "nbformat": 4,
  "nbformat_minor": 0,
  "metadata": {
    "colab": {
      "name": "FirstLinearNN_OriginML_Akshay_JJ",
      "provenance": [],
      "collapsed_sections": [],
      "authorship_tag": "ABX9TyMfr8TOL5oaPRpko928fURS",
      "include_colab_link": true
    },
    "kernelspec": {
      "name": "python3",
      "display_name": "Python 3"
    }
  },
  "cells": [
    {
      "cell_type": "markdown",
      "metadata": {
        "id": "view-in-github",
        "colab_type": "text"
      },
      "source": [
        "<a href=\"https://colab.research.google.com/github/jonathanjohnson8/jonnet/blob/first_branch/FirstLinearNN_OriginML_Akshay_JJ.ipynb\" target=\"_parent\"><img src=\"https://colab.research.google.com/assets/colab-badge.svg\" alt=\"Open In Colab\"/></a>"
      ]
    },
    {
      "cell_type": "code",
      "metadata": {
        "id": "KAj3gzBLC57L"
      },
      "source": [
        "import torch"
      ],
      "execution_count": null,
      "outputs": []
    },
    {
      "cell_type": "code",
      "metadata": {
        "id": "zwGLAE2FEple"
      },
      "source": [
        "%matplotlib inline\n",
        "import numpy as np\n",
        "import scipy\n",
        "import matplotlib.pyplot as plt\n",
        "import torch.nn as nn"
      ],
      "execution_count": null,
      "outputs": []
    },
    {
      "cell_type": "code",
      "metadata": {
        "id": "tVv5woLnHuvN",
        "outputId": "3149e5f9-4899-4f68-cf95-13c18bbc3700",
        "colab": {
          "base_uri": "https://localhost:8080/",
          "height": 269
        }
      },
      "source": [
        "pointsA = np.array([[0.8, 0.2],[1.6, 3],[3.1, 1],[4.6, 3],[1.2, 4],[3.5, 1],[4.2, 2],[1.8, 2],[3.3, 4],[4.1, 5],[1.3, 6.1],[3.2, 7.2]], dtype=np.float32)\n",
        "pointsB = np.array([[6.2, 6.5],[7.1, 7.2],[8.4, 8.1],[9.5, 9.2],[9.7, 9.2],[7.6, 2],[7.1, 3],[7.9, 4],[7.2, 9],[8.8, 5],[9.1, 6],[6.8, 6],[7.1, 7],[8.2, 8],[9.4, 9]], dtype=np.float32)\n",
        "\n",
        "plt.plot(pointsA[:,0], pointsA[:,1], 'o', color='black');\n",
        "plt.plot(pointsB[:,0], pointsB[:,1], '+', color='black');\n",
        "plt.xlim(0,12); plt.ylim(0,12);\n",
        "plt.show();"
      ],
      "execution_count": null,
      "outputs": [
        {
          "output_type": "display_data",
          "data": {
            "image/png": "[encoded data removed]",
            "text/plain": [
              "<Figure size 432x288 with 1 Axes>"
            ]
          },
          "metadata": {
            "tags": [],
            "needs_background": "light"
          }
        }
      ]
    },
    {
      "cell_type": "markdown",
      "metadata": {
        "id": "u3ZY0yaDJifr"
      },
      "source": [
        "used a linear function to be able to draw a linear classification boundary"
      ]
    },
    {
      "cell_type": "code",
      "metadata": {
        "id": "S-jiyA0HFKhj"
      },
      "source": [
        "model = nn.Linear(2, 1)\n",
        "criterion = nn.BCELoss()\n",
        "optimizer = torch.optim.SGD(model.parameters(), lr=0.01)"
      ],
      "execution_count": null,
      "outputs": []
    },
    {
      "cell_type": "markdown",
      "metadata": {
        "id": "Yknj-DeeJgKu"
      },
      "source": [
        "tensors are slopes (ax + by + c = 0 )\n",
        "0.5939x + -.1929y + (model.bias) = 0"
      ]
    },
    {
      "cell_type": "code",
      "metadata": {
        "id": "vDh33HX6JbV3",
        "outputId": "55fb0486-b5f5-4223-dd07-7d7bb2518cd1",
        "colab": {
          "base_uri": "https://localhost:8080/"
        }
      },
      "source": [
        "model.weight"
      ],
      "execution_count": null,
      "outputs": [
        {
          "output_type": "execute_result",
          "data": {
            "text/plain": [
              "Parameter containing:\n",
              "tensor([[ 0.5939, -0.1929]], requires_grad=True)"
            ]
          },
          "metadata": {
            "tags": []
          },
          "execution_count": 22
        }
      ]
    },
    {
      "cell_type": "code",
      "metadata": {
        "id": "84J1XEn0J9hN",
        "outputId": "23d53bfc-2665-4760-cede-a9284fbd63cb",
        "colab": {
          "base_uri": "https://localhost:8080/"
        }
      },
      "source": [
        "model.bias"
      ],
      "execution_count": null,
      "outputs": [
        {
          "output_type": "execute_result",
          "data": {
            "text/plain": [
              "Parameter containing:\n",
              "tensor([-0.0872], requires_grad=True)"
            ]
          },
          "metadata": {
            "tags": []
          },
          "execution_count": 23
        }
      ]
    },
    {
      "cell_type": "markdown",
      "metadata": {
        "id": "3Z3ZZqXBLU44"
      },
      "source": [
        "y = -ax - c / b\n",
        "y = -(ax + c)/ b"
      ]
    },
    {
      "cell_type": "markdown",
      "metadata": {
        "id": "L_EIaJdKMooV"
      },
      "source": [
        "#first boundary doesnt work. See ugly picture below"
      ]
    },
    {
      "cell_type": "code",
      "metadata": {
        "id": "oXrXTZg-KgFL",
        "outputId": "e45afbc9-5336-4dc7-aed2-0ff4d7b29aa2",
        "colab": {
          "base_uri": "https://localhost:8080/",
          "height": 265
        }
      },
      "source": [
        "with torch.no_grad():\n",
        "  x = np.linspace(0,10,100)\n",
        "  y = ((model.weight[0,0] * x - model.bias))/ model.weight[0,1]\n",
        "plt.plot(x,y)\n",
        "plt.plot(pointsA[:,0], pointsA[:,1], 'o', color='black');\n",
        "plt.plot(pointsB[:,0], pointsB[:,1], '+', color='black');\n",
        "\n",
        "\n"
      ],
      "execution_count": null,
      "outputs": [
        {
          "output_type": "display_data",
          "data": {
            "image/png": "[encoded data removed]",
            "text/plain": [
              "<Figure size 432x288 with 1 Axes>"
            ]
          },
          "metadata": {
            "tags": [],
            "needs_background": "light"
          }
        }
      ]
    },
    {
      "cell_type": "markdown",
      "metadata": {
        "id": "vCYjBnPmMuWZ"
      },
      "source": [
        "Now , we will adjust weights to minimize error (costs) == fancy version of \"training a model\"\n"
      ]
    },
    {
      "cell_type": "code",
      "metadata": {
        "id": "T8XPlRCNMkDf",
        "outputId": "46a502a7-d8c4-4fe2-bac1-8507cfa2b16e",
        "colab": {
          "base_uri": "https://localhost:8080/"
        }
      },
      "source": [
        "for epoch in range(20000):\n",
        "    inputs = torch.from_numpy(np.concatenate((pointsA,pointsB), axis=0))\n",
        "    labels = torch.from_numpy(np.reshape(np.concatenate((np.repeat([0],pointsA.shape[0]),np.repeat([1],pointsB.shape[0])), axis=0).astype(np.float32), (-1,1)))\n",
        "    outputs = model(inputs)\n",
        "    loss = criterion(nn.Sigmoid()(outputs), labels)\n",
        "    optimizer.zero_grad()\n",
        "    loss.backward()\n",
        "    optimizer.step()\n",
        "    if epoch % 1000 ==0:\n",
        "      print ('Iteration {}, Loss: {:.7f}'.format(epoch+1, loss.item()))"
      ],
      "execution_count": null,
      "outputs": [
        {
          "output_type": "stream",
          "text": [
            "Iteration 1, Loss: 0.0357518\n",
            "Iteration 1001, Loss: 0.0350801\n",
            "Iteration 2001, Loss: 0.0344354\n",
            "Iteration 3001, Loss: 0.0338163\n",
            "Iteration 4001, Loss: 0.0332216\n",
            "Iteration 5001, Loss: 0.0326489\n",
            "Iteration 6001, Loss: 0.0320980\n",
            "Iteration 7001, Loss: 0.0315670\n",
            "Iteration 8001, Loss: 0.0310544\n",
            "Iteration 9001, Loss: 0.0305606\n",
            "Iteration 10001, Loss: 0.0300835\n",
            "Iteration 11001, Loss: 0.0296221\n",
            "Iteration 12001, Loss: 0.0291759\n",
            "Iteration 13001, Loss: 0.0287441\n",
            "Iteration 14001, Loss: 0.0283265\n",
            "Iteration 15001, Loss: 0.0279218\n",
            "Iteration 16001, Loss: 0.0275295\n",
            "Iteration 17001, Loss: 0.0271490\n",
            "Iteration 18001, Loss: 0.0267797\n",
            "Iteration 19001, Loss: 0.0264214\n"
          ],
          "name": "stdout"
        }
      ]
    },
    {
      "cell_type": "code",
      "metadata": {
        "id": "MDLVlUolQr_K",
        "outputId": "79f0ed39-6a41-4079-e81d-0d1b1bd216c8",
        "colab": {
          "base_uri": "https://localhost:8080/",
          "height": 286
        }
      },
      "source": [
        "with torch.no_grad():\n",
        "  x = np.linspace(0,10,100)\n",
        "  y = - ((model.weight[0,0] * x + model.bias))/model.weight[0,1]\n",
        "plt.plot(x,y)\n",
        "plt.plot(pointsA[:,0], pointsA[:,1], 'o', color='black');\n",
        "plt.plot(pointsB[:,0], pointsB[:,1], '+', color='black');\n",
        "plt.ylim(0,10)\n",
        "plt.xlim(0,10)"
      ],
      "execution_count": null,
      "outputs": [
        {
          "output_type": "execute_result",
          "data": {
            "text/plain": [
              "(0.0, 10.0)"
            ]
          },
          "metadata": {
            "tags": []
          },
          "execution_count": 59
        },
        {
          "output_type": "display_data",
          "data": {
            "image/png": "[encoded data removed]",
            "text/plain": [
              "<Figure size 432x288 with 1 Axes>"
            ]
          },
          "metadata": {
            "tags": [],
            "needs_background": "light"
          }
        }
      ]
    }
  ]
}